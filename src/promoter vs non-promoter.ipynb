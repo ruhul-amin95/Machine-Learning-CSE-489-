{
  "nbformat": 4,
  "nbformat_minor": 0,
  "metadata": {
    "colab": {
      "name": "promoter (permutation with repetition).ipynb",
      "version": "0.3.2",
      "provenance": [],
      "collapsed_sections": []
    },
    "kernelspec": {
      "name": "python3",
      "display_name": "Python 3"
    },
    "accelerator": "GPU"
  },
  "cells": [
    {
      "cell_type": "code",
      "metadata": {
        "id": "l-ifk4BYynh-",
        "colab_type": "code",
        "outputId": "83e7d81a-7daa-4989-c652-e99f9cb27cea",
        "colab": {
          "base_uri": "https://localhost:8080/",
          "height": 34
        }
      },
      "source": [
        "import keras\n",
        "import numpy as np\n",
        "import pandas as pd\n",
        "import cv2\n",
        "from keras import backend as K\n",
        "from keras.models import Sequential\n",
        "from keras.layers import Dense, Dropout, Activation, Flatten\n",
        "from keras.layers import Convolution2D, MaxPooling2D, Convolution1D, MaxPooling1D, LocallyConnected1D\n",
        "from keras.utils import np_utils\n",
        "#from keras.layers.core import Dense, Flatten\n",
        "from keras.optimizers import Adam, SGD, RMSprop, Adagrad\n",
        "from keras.metrics import categorical_crossentropy\n",
        "from keras.preprocessing.image import ImageDataGenerator\n",
        "from keras.layers.normalization import BatchNormalization\n",
        "from keras.layers.convolutional import *\n",
        "from keras.utils import to_categorical\n",
        "import matplotlib.pyplot as plt\n",
        "from sklearn.model_selection import train_test_split\n",
        "from sklearn.metrics import confusion_matrix, accuracy_score, classification_report, matthews_corrcoef\n",
        "import itertools"
      ],
      "execution_count": 1,
      "outputs": [
        {
          "output_type": "stream",
          "text": [
            "Using TensorFlow backend.\n"
          ],
          "name": "stderr"
        }
      ]
    },
    {
      "cell_type": "code",
      "metadata": {
        "id": "gwOjLISlQnAj",
        "colab_type": "code",
        "colab": {}
      },
      "source": [
        "df = pd.read_csv('https://raw.githubusercontent.com/ruhul-amin95/E.-coli/master/perm%20with%20rep%20(promoter).csv')\n",
        "\n",
        "X = df.values\n",
        "y = np.array([1]*2860 + [0]*2860)"
      ],
      "execution_count": 0,
      "outputs": []
    },
    {
      "cell_type": "code",
      "metadata": {
        "id": "SZZNi-vBQmj0",
        "colab_type": "code",
        "colab": {}
      },
      "source": [
        "X = to_categorical(X)\n",
        "y = to_categorical(y)"
      ],
      "execution_count": 0,
      "outputs": []
    },
    {
      "cell_type": "code",
      "metadata": {
        "id": "FpWwD7bny_wk",
        "colab_type": "code",
        "colab": {}
      },
      "source": [
        "X_tr, X_test, y_tr, y_test = train_test_split(X, y, test_size=0.15)\n",
        "X_train, X_val, y_train, y_val = train_test_split(X_tr, y_tr, test_size=0.15)"
      ],
      "execution_count": 0,
      "outputs": []
    },
    {
      "cell_type": "code",
      "metadata": {
        "id": "B32UaFZ3zEyr",
        "colab_type": "code",
        "outputId": "22d31e88-ecc4-4783-babe-23c09ab0e3c5",
        "colab": {
          "base_uri": "https://localhost:8080/",
          "height": 51
        }
      },
      "source": [
        "print('test: ', np.sum(y_test, axis=0))\n",
        "print('val: ', np.sum(y_val, axis=0))"
      ],
      "execution_count": 17,
      "outputs": [
        {
          "output_type": "stream",
          "text": [
            "test:  [422. 436.]\n",
            "val:  [332. 398.]\n"
          ],
          "name": "stdout"
        }
      ]
    },
    {
      "cell_type": "code",
      "metadata": {
        "id": "pnv0kRXvzG-q",
        "colab_type": "code",
        "colab": {}
      },
      "source": [
        "# Model Architecture\n",
        "model = Sequential()\n",
        "\n",
        "model.add(Convolution1D(filters = 128, kernel_size= 3, activation='relu', input_shape=(79, 64)))\n",
        "#model.add(MaxPooling1D(pool_size=2))\n",
        "model.add(Dropout(0.50))\n",
        "model.add(Convolution1D(filters = 40, kernel_size = 2, activation='relu'))\n",
        "#model.add(MaxPooling1D(pool_size=2))\n",
        "model.add(Convolution1D(filters = 16, kernel_size = 2, activation='relu'))\n",
        "model.add(Dropout(0.30))\n",
        "\n",
        "model.add(Flatten())\n",
        "#model.add(Dense(256, activation='relu'))\n",
        "#model.add(Dense(128, activation='relu'))\n",
        "model.add(Dropout(0.1))\n",
        "model.add(Dense(32, activation='relu'))\n",
        "model.add(Dense(2, activation='softmax'))"
      ],
      "execution_count": 0,
      "outputs": []
    },
    {
      "cell_type": "code",
      "metadata": {
        "id": "Dujnm1c31E_J",
        "colab_type": "code",
        "outputId": "5ab96218-daff-450e-f5bc-405e4567c654",
        "colab": {
          "base_uri": "https://localhost:8080/",
          "height": 1011
        }
      },
      "source": [
        "model.compile(Adam(lr=0.0003), loss='categorical_crossentropy', metrics=['accuracy'])\n",
        "\n",
        "model.fit(X_train, y_train, validation_data=(X_val, y_val), epochs=28, batch_size=50, verbose=1)"
      ],
      "execution_count": 19,
      "outputs": [
        {
          "output_type": "stream",
          "text": [
            "Train on 4132 samples, validate on 730 samples\n",
            "Epoch 1/28\n",
            "4132/4132 [==============================] - 1s 265us/step - loss: 0.6931 - acc: 0.5162 - val_loss: 0.6907 - val_acc: 0.5137\n",
            "Epoch 2/28\n",
            "4132/4132 [==============================] - 1s 129us/step - loss: 0.6698 - acc: 0.6181 - val_loss: 0.5825 - val_acc: 0.7795\n",
            "Epoch 3/28\n",
            "4132/4132 [==============================] - 1s 135us/step - loss: 0.5014 - acc: 0.7781 - val_loss: 0.4959 - val_acc: 0.7877\n",
            "Epoch 4/28\n",
            "4132/4132 [==============================] - 1s 129us/step - loss: 0.4482 - acc: 0.8011 - val_loss: 0.4583 - val_acc: 0.7986\n",
            "Epoch 5/28\n",
            "4132/4132 [==============================] - 1s 131us/step - loss: 0.4165 - acc: 0.8190 - val_loss: 0.4168 - val_acc: 0.8164\n",
            "Epoch 6/28\n",
            "4132/4132 [==============================] - 1s 128us/step - loss: 0.3913 - acc: 0.8289 - val_loss: 0.3954 - val_acc: 0.8342\n",
            "Epoch 7/28\n",
            "4132/4132 [==============================] - 1s 132us/step - loss: 0.3692 - acc: 0.8417 - val_loss: 0.3726 - val_acc: 0.8466\n",
            "Epoch 8/28\n",
            "4132/4132 [==============================] - 1s 129us/step - loss: 0.3585 - acc: 0.8500 - val_loss: 0.3605 - val_acc: 0.8479\n",
            "Epoch 9/28\n",
            "4132/4132 [==============================] - 1s 131us/step - loss: 0.3436 - acc: 0.8560 - val_loss: 0.3567 - val_acc: 0.8534\n",
            "Epoch 10/28\n",
            "4132/4132 [==============================] - 1s 127us/step - loss: 0.3195 - acc: 0.8625 - val_loss: 0.3558 - val_acc: 0.8493\n",
            "Epoch 11/28\n",
            "4132/4132 [==============================] - 1s 131us/step - loss: 0.3222 - acc: 0.8664 - val_loss: 0.3485 - val_acc: 0.8548\n",
            "Epoch 12/28\n",
            "4132/4132 [==============================] - 1s 128us/step - loss: 0.3060 - acc: 0.8710 - val_loss: 0.3401 - val_acc: 0.8548\n",
            "Epoch 13/28\n",
            "4132/4132 [==============================] - 1s 130us/step - loss: 0.2979 - acc: 0.8773 - val_loss: 0.3372 - val_acc: 0.8630\n",
            "Epoch 14/28\n",
            "4132/4132 [==============================] - 1s 129us/step - loss: 0.2877 - acc: 0.8758 - val_loss: 0.3329 - val_acc: 0.8685\n",
            "Epoch 15/28\n",
            "4132/4132 [==============================] - 1s 131us/step - loss: 0.2901 - acc: 0.8812 - val_loss: 0.3444 - val_acc: 0.8507\n",
            "Epoch 16/28\n",
            "4132/4132 [==============================] - 1s 129us/step - loss: 0.2801 - acc: 0.8836 - val_loss: 0.3288 - val_acc: 0.8685\n",
            "Epoch 17/28\n",
            "4132/4132 [==============================] - 1s 132us/step - loss: 0.2809 - acc: 0.8802 - val_loss: 0.3458 - val_acc: 0.8658\n",
            "Epoch 18/28\n",
            "4132/4132 [==============================] - 1s 127us/step - loss: 0.2588 - acc: 0.8909 - val_loss: 0.3261 - val_acc: 0.8712\n",
            "Epoch 19/28\n",
            "4132/4132 [==============================] - 1s 131us/step - loss: 0.2566 - acc: 0.8986 - val_loss: 0.3382 - val_acc: 0.8699\n",
            "Epoch 20/28\n",
            "4132/4132 [==============================] - 1s 122us/step - loss: 0.2452 - acc: 0.9013 - val_loss: 0.3361 - val_acc: 0.8753\n",
            "Epoch 21/28\n",
            "4132/4132 [==============================] - 0s 117us/step - loss: 0.2483 - acc: 0.8969 - val_loss: 0.3297 - val_acc: 0.8753\n",
            "Epoch 22/28\n",
            "4132/4132 [==============================] - 0s 113us/step - loss: 0.2396 - acc: 0.8998 - val_loss: 0.3297 - val_acc: 0.8795\n",
            "Epoch 23/28\n",
            "4132/4132 [==============================] - 0s 117us/step - loss: 0.2436 - acc: 0.8925 - val_loss: 0.3637 - val_acc: 0.8493\n",
            "Epoch 24/28\n",
            "4132/4132 [==============================] - 0s 113us/step - loss: 0.2494 - acc: 0.8955 - val_loss: 0.3304 - val_acc: 0.8726\n",
            "Epoch 25/28\n",
            "4132/4132 [==============================] - 0s 117us/step - loss: 0.2261 - acc: 0.9083 - val_loss: 0.3421 - val_acc: 0.8781\n",
            "Epoch 26/28\n",
            "4132/4132 [==============================] - 0s 113us/step - loss: 0.2149 - acc: 0.9076 - val_loss: 0.3365 - val_acc: 0.8753\n",
            "Epoch 27/28\n",
            "4132/4132 [==============================] - 0s 119us/step - loss: 0.2208 - acc: 0.9109 - val_loss: 0.3378 - val_acc: 0.8767\n",
            "Epoch 28/28\n",
            "4132/4132 [==============================] - 0s 115us/step - loss: 0.2199 - acc: 0.9155 - val_loss: 0.3383 - val_acc: 0.8726\n"
          ],
          "name": "stdout"
        },
        {
          "output_type": "execute_result",
          "data": {
            "text/plain": [
              "<keras.callbacks.History at 0x7f7340335470>"
            ]
          },
          "metadata": {
            "tags": []
          },
          "execution_count": 19
        }
      ]
    },
    {
      "cell_type": "code",
      "metadata": {
        "id": "JR8FwiPYUAtn",
        "colab_type": "code",
        "colab": {}
      },
      "source": [
        "y_true = np.argmax(y_test, axis=1)\n",
        "y_pred = model.predict_classes(X_test)"
      ],
      "execution_count": 0,
      "outputs": []
    },
    {
      "cell_type": "code",
      "metadata": {
        "id": "PEPcVU4b1RDI",
        "colab_type": "code",
        "outputId": "27b06b23-682e-45d7-b087-3b873846c660",
        "colab": {
          "base_uri": "https://localhost:8080/",
          "height": 206
        }
      },
      "source": [
        "print(accuracy_score(y_true, y_pred) * 100)\n",
        "print(classification_report(y_true, y_pred))\n",
        "print(matthews_corrcoef(y_true, y_pred))"
      ],
      "execution_count": 21,
      "outputs": [
        {
          "output_type": "stream",
          "text": [
            "87.41258741258741\n",
            "              precision    recall  f1-score   support\n",
            "\n",
            "           0       0.88      0.86      0.87       422\n",
            "           1       0.87      0.88      0.88       436\n",
            "\n",
            "   micro avg       0.87      0.87      0.87       858\n",
            "   macro avg       0.87      0.87      0.87       858\n",
            "weighted avg       0.87      0.87      0.87       858\n",
            "\n",
            "0.7482004617035563\n"
          ],
          "name": "stdout"
        }
      ]
    },
    {
      "cell_type": "code",
      "metadata": {
        "id": "9FeNMVaaS1aq",
        "colab_type": "code",
        "outputId": "9cf73eb3-93f8-4cc3-c602-3db7759fe604",
        "colab": {
          "base_uri": "https://localhost:8080/",
          "height": 51
        }
      },
      "source": [
        "print(confusion_matrix(y_true, y_pred))"
      ],
      "execution_count": 23,
      "outputs": [
        {
          "output_type": "stream",
          "text": [
            "[[365  57]\n",
            " [ 51 385]]\n"
          ],
          "name": "stdout"
        }
      ]
    },
    {
      "cell_type": "code",
      "metadata": {
        "id": "X-CvYQM9TQSC",
        "colab_type": "code",
        "outputId": "402a1346-be39-481b-e347-698aaa35eee1",
        "colab": {
          "base_uri": "https://localhost:8080/",
          "height": 154
        }
      },
      "source": [
        "from google.colab import drive\n",
        "drive.mount('/content/drive')"
      ],
      "execution_count": 0,
      "outputs": [
        {
          "output_type": "stream",
          "text": [
            "Go to this URL in a browser: https://accounts.google.com/o/oauth2/auth?client_id=947318989803-6bn6qk8qdgf4n4g3pfee6491hc0brc4i.apps.googleusercontent.com&redirect_uri=urn%3Aietf%3Awg%3Aoauth%3A2.0%3Aoob&scope=email%20https%3A%2F%2Fwww.googleapis.com%2Fauth%2Fdocs.test%20https%3A%2F%2Fwww.googleapis.com%2Fauth%2Fdrive%20https%3A%2F%2Fwww.googleapis.com%2Fauth%2Fdrive.photos.readonly%20https%3A%2F%2Fwww.googleapis.com%2Fauth%2Fpeopleapi.readonly&response_type=code\n",
            "\n",
            "Enter your authorization code:\n",
            "··········\n",
            "Mounted at /content/drive\n"
          ],
          "name": "stdout"
        }
      ]
    },
    {
      "cell_type": "code",
      "metadata": {
        "id": "UCQ0zuLe1Shj",
        "colab_type": "code",
        "colab": {}
      },
      "source": [
        "model.save('drive/My Drive/promoter(86.94).h5')"
      ],
      "execution_count": 0,
      "outputs": []
    },
    {
      "cell_type": "code",
      "metadata": {
        "id": "7SaidPrY1ggh",
        "colab_type": "code",
        "colab": {}
      },
      "source": [
        ""
      ],
      "execution_count": 0,
      "outputs": []
    }
  ]
}