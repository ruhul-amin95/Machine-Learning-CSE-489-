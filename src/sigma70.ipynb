{
  "nbformat": 4,
  "nbformat_minor": 0,
  "metadata": {
    "colab": {
      "name": "sigma70.ipynb",
      "version": "0.3.2",
      "provenance": []
    },
    "kernelspec": {
      "name": "python3",
      "display_name": "Python 3"
    },
    "accelerator": "GPU"
  },
  "cells": [
    {
      "cell_type": "code",
      "metadata": {
        "id": "MvJlTHvezoPV",
        "colab_type": "code",
        "outputId": "a3e0b731-0f71-4d33-f276-890ab34402ba",
        "colab": {
          "base_uri": "https://localhost:8080/",
          "height": 34
        }
      },
      "source": [
        "import keras\n",
        "import numpy as np\n",
        "import pandas as pd\n",
        "import cv2\n",
        "from keras import backend as K\n",
        "from keras.models import Sequential, load_model\n",
        "from keras.layers import Dense, Dropout, Activation, Flatten\n",
        "from keras.layers import Convolution2D, MaxPooling2D, Convolution1D, MaxPooling1D, LocallyConnected1D\n",
        "from keras.utils import np_utils\n",
        "#from keras.layers.core import Dense, Flatten\n",
        "from keras.optimizers import Adam, SGD, RMSprop, Adagrad\n",
        "from keras.metrics import categorical_crossentropy\n",
        "from keras.preprocessing.image import ImageDataGenerator\n",
        "from keras.layers.normalization import BatchNormalization\n",
        "from keras.layers.convolutional import *\n",
        "from keras.utils import to_categorical\n",
        "import matplotlib.pyplot as plt\n",
        "from sklearn.model_selection import train_test_split\n",
        "from sklearn.metrics import confusion_matrix, accuracy_score, classification_report, matthews_corrcoef\n",
        "import itertools"
      ],
      "execution_count": 0,
      "outputs": [
        {
          "output_type": "stream",
          "text": [
            "Using TensorFlow backend.\n"
          ],
          "name": "stderr"
        }
      ]
    },
    {
      "cell_type": "code",
      "metadata": {
        "id": "wUy5cPHGNrlU",
        "colab_type": "code",
        "outputId": "161e7d21-3c05-4c74-b3ec-31e3fc6b627f",
        "colab": {
          "base_uri": "https://localhost:8080/",
          "height": 34
        }
      },
      "source": [
        "df = pd.read_csv('https://raw.githubusercontent.com/ruhul-amin95/E.-coli/master/sigma_70(pwr).csv')\n",
        "df.shape"
      ],
      "execution_count": 0,
      "outputs": [
        {
          "output_type": "execute_result",
          "data": {
            "text/plain": [
              "(2860, 80)"
            ]
          },
          "metadata": {
            "tags": []
          },
          "execution_count": 2
        }
      ]
    },
    {
      "cell_type": "code",
      "metadata": {
        "id": "OeJikYSEOkIU",
        "colab_type": "code",
        "colab": {}
      },
      "source": [
        "X = df.iloc[:, :-1].values\n",
        "y = df.iloc[:, -1].values"
      ],
      "execution_count": 0,
      "outputs": []
    },
    {
      "cell_type": "code",
      "metadata": {
        "id": "bTQdB9RV2_xJ",
        "colab_type": "code",
        "colab": {}
      },
      "source": [
        "X = to_categorical(X)\n",
        "y = to_categorical(y)"
      ],
      "execution_count": 0,
      "outputs": []
    },
    {
      "cell_type": "code",
      "metadata": {
        "id": "BdYtxuc_OG64",
        "colab_type": "code",
        "colab": {}
      },
      "source": [
        "X_tr, X_test, y_tr, y_test = train_test_split(X, y, test_size=0.15)\n",
        "X_train, X_val, y_train, y_val = train_test_split(X_tr, y_tr, test_size=0.15)"
      ],
      "execution_count": 0,
      "outputs": []
    },
    {
      "cell_type": "code",
      "metadata": {
        "id": "fpn2fCtzOG4x",
        "colab_type": "code",
        "outputId": "b2c1b944-0631-4b84-9105-ef56dda92ebc",
        "colab": {
          "base_uri": "https://localhost:8080/",
          "height": 51
        }
      },
      "source": [
        "print('test: ', np.sum(y_test, axis=0))\n",
        "print('val: ', np.sum(y_val, axis=0))"
      ],
      "execution_count": 0,
      "outputs": [
        {
          "output_type": "stream",
          "text": [
            "test:  [182. 247.]\n",
            "val:  [139. 226.]\n"
          ],
          "name": "stdout"
        }
      ]
    },
    {
      "cell_type": "code",
      "metadata": {
        "id": "XsZtSZ8aOG2e",
        "colab_type": "code",
        "outputId": "9f7eefa2-1192-46b8-b529-dfea9ea31e03",
        "colab": {
          "base_uri": "https://localhost:8080/",
          "height": 144
        }
      },
      "source": [
        "# Model Architecture\n",
        "model = Sequential()\n",
        "\n",
        "model.add(Convolution1D(filters = 128, kernel_size= 3, activation='relu', input_shape=(79, 64)))\n",
        "#model.add(MaxPooling1D(pool_size=2))\n",
        "model.add(Dropout(0.50))\n",
        "model.add(Convolution1D(filters = 40, kernel_size = 2, activation='relu'))\n",
        "#model.add(MaxPooling1D(pool_size=2))\n",
        "#model.add(Convolution1D(filters = 16, kernel_size = 2, activation='relu'))\n",
        "model.add(Dropout(0.50))\n",
        "\n",
        "model.add(Flatten())\n",
        "#model.add(Dense(256, activation='relu'))\n",
        "#model.add(Dense(128, activation='relu'))\n",
        "model.add(Dropout(0.5))\n",
        "model.add(Dense(32, activation='relu'))\n",
        "model.add(Dense(2, activation='softmax'))"
      ],
      "execution_count": 0,
      "outputs": [
        {
          "output_type": "stream",
          "text": [
            "WARNING:tensorflow:From /usr/local/lib/python3.6/dist-packages/tensorflow/python/framework/op_def_library.py:263: colocate_with (from tensorflow.python.framework.ops) is deprecated and will be removed in a future version.\n",
            "Instructions for updating:\n",
            "Colocations handled automatically by placer.\n",
            "WARNING:tensorflow:From /usr/local/lib/python3.6/dist-packages/keras/backend/tensorflow_backend.py:3445: calling dropout (from tensorflow.python.ops.nn_ops) with keep_prob is deprecated and will be removed in a future version.\n",
            "Instructions for updating:\n",
            "Please use `rate` instead of `keep_prob`. Rate should be set to `rate = 1 - keep_prob`.\n"
          ],
          "name": "stdout"
        }
      ]
    },
    {
      "cell_type": "code",
      "metadata": {
        "id": "fDrKLS71OG0D",
        "colab_type": "code",
        "outputId": "2a29dfa7-2f3c-4193-e369-1d3a5a3ae946",
        "colab": {
          "base_uri": "https://localhost:8080/",
          "height": 946
        }
      },
      "source": [
        "model.compile(Adam(lr=0.0003), loss='categorical_crossentropy', metrics=['accuracy'])\n",
        "\n",
        "model.fit(X_train, y_train, validation_data=(X_val, y_val), epochs=4, batch_size=25, verbose=1)"
      ],
      "execution_count": 0,
      "outputs": [
        {
          "output_type": "stream",
          "text": [
            "WARNING:tensorflow:From /usr/local/lib/python3.6/dist-packages/tensorflow/python/ops/math_ops.py:3066: to_int32 (from tensorflow.python.ops.math_ops) is deprecated and will be removed in a future version.\n",
            "Instructions for updating:\n",
            "Use tf.cast instead.\n",
            "Train on 2066 samples, validate on 365 samples\n",
            "Epoch 1/24\n",
            "2066/2066 [==============================] - 3s 2ms/step - loss: 0.6807 - acc: 0.5789 - val_loss: 0.6663 - val_acc: 0.6192\n",
            "Epoch 2/24\n",
            "2066/2066 [==============================] - 0s 199us/step - loss: 0.6750 - acc: 0.5949 - val_loss: 0.6606 - val_acc: 0.6192\n",
            "Epoch 3/24\n",
            "2066/2066 [==============================] - 0s 185us/step - loss: 0.6645 - acc: 0.5992 - val_loss: 0.6437 - val_acc: 0.6192\n",
            "Epoch 4/24\n",
            "2066/2066 [==============================] - 0s 185us/step - loss: 0.6406 - acc: 0.6234 - val_loss: 0.6156 - val_acc: 0.7151\n",
            "Epoch 5/24\n",
            "2066/2066 [==============================] - 0s 194us/step - loss: 0.6037 - acc: 0.6834 - val_loss: 0.5469 - val_acc: 0.7863\n",
            "Epoch 6/24\n",
            "2066/2066 [==============================] - 0s 184us/step - loss: 0.5489 - acc: 0.7333 - val_loss: 0.4792 - val_acc: 0.7973\n",
            "Epoch 7/24\n",
            "2066/2066 [==============================] - 0s 203us/step - loss: 0.5089 - acc: 0.7488 - val_loss: 0.4399 - val_acc: 0.8055\n",
            "Epoch 8/24\n",
            "2066/2066 [==============================] - 0s 186us/step - loss: 0.4780 - acc: 0.7769 - val_loss: 0.4115 - val_acc: 0.8247\n",
            "Epoch 9/24\n",
            "2066/2066 [==============================] - 0s 201us/step - loss: 0.4397 - acc: 0.8045 - val_loss: 0.3948 - val_acc: 0.8438\n",
            "Epoch 10/24\n",
            "2066/2066 [==============================] - 0s 231us/step - loss: 0.4269 - acc: 0.8103 - val_loss: 0.3893 - val_acc: 0.8329\n",
            "Epoch 11/24\n",
            "2066/2066 [==============================] - 0s 221us/step - loss: 0.4142 - acc: 0.8224 - val_loss: 0.3912 - val_acc: 0.8329\n",
            "Epoch 12/24\n",
            "2066/2066 [==============================] - 0s 231us/step - loss: 0.4052 - acc: 0.8228 - val_loss: 0.3717 - val_acc: 0.8493\n",
            "Epoch 13/24\n",
            "2066/2066 [==============================] - 0s 222us/step - loss: 0.4007 - acc: 0.8204 - val_loss: 0.3696 - val_acc: 0.8521\n",
            "Epoch 14/24\n",
            "2066/2066 [==============================] - 0s 235us/step - loss: 0.3770 - acc: 0.8335 - val_loss: 0.3663 - val_acc: 0.8575\n",
            "Epoch 15/24\n",
            "2066/2066 [==============================] - 0s 220us/step - loss: 0.3813 - acc: 0.8238 - val_loss: 0.3628 - val_acc: 0.8548\n",
            "Epoch 16/24\n",
            "2066/2066 [==============================] - 0s 231us/step - loss: 0.3722 - acc: 0.8398 - val_loss: 0.3599 - val_acc: 0.8548\n",
            "Epoch 17/24\n",
            "2066/2066 [==============================] - 0s 221us/step - loss: 0.3608 - acc: 0.8451 - val_loss: 0.3565 - val_acc: 0.8603\n",
            "Epoch 18/24\n",
            "2066/2066 [==============================] - 0s 222us/step - loss: 0.3436 - acc: 0.8558 - val_loss: 0.3587 - val_acc: 0.8548\n",
            "Epoch 19/24\n",
            "2066/2066 [==============================] - 0s 229us/step - loss: 0.3398 - acc: 0.8543 - val_loss: 0.3553 - val_acc: 0.8575\n",
            "Epoch 20/24\n",
            "2066/2066 [==============================] - 0s 223us/step - loss: 0.3377 - acc: 0.8495 - val_loss: 0.3521 - val_acc: 0.8466\n",
            "Epoch 21/24\n",
            "2066/2066 [==============================] - 0s 232us/step - loss: 0.3211 - acc: 0.8654 - val_loss: 0.3570 - val_acc: 0.8521\n",
            "Epoch 22/24\n",
            "2066/2066 [==============================] - 0s 224us/step - loss: 0.3149 - acc: 0.8698 - val_loss: 0.3524 - val_acc: 0.8493\n",
            "Epoch 23/24\n",
            "2066/2066 [==============================] - 0s 233us/step - loss: 0.3143 - acc: 0.8601 - val_loss: 0.3525 - val_acc: 0.8548\n",
            "Epoch 24/24\n",
            "2066/2066 [==============================] - 0s 222us/step - loss: 0.3059 - acc: 0.8756 - val_loss: 0.3553 - val_acc: 0.8493\n"
          ],
          "name": "stdout"
        },
        {
          "output_type": "execute_result",
          "data": {
            "text/plain": [
              "<keras.callbacks.History at 0x7f949ec8c208>"
            ]
          },
          "metadata": {
            "tags": []
          },
          "execution_count": 8
        }
      ]
    },
    {
      "cell_type": "code",
      "metadata": {
        "id": "ws39bNzTOGxG",
        "colab_type": "code",
        "colab": {}
      },
      "source": [
        "y_true = np.argmax(y_test, axis=1)\n",
        "y_pred = model.predict_classes(X_test)"
      ],
      "execution_count": 0,
      "outputs": []
    },
    {
      "cell_type": "code",
      "metadata": {
        "id": "WphbaJHxOGtW",
        "colab_type": "code",
        "outputId": "fd3360c1-db05-4a5b-a464-2d66b6cf1bf0",
        "colab": {
          "base_uri": "https://localhost:8080/",
          "height": 206
        }
      },
      "source": [
        "print(accuracy_score(y_true, y_pred) * 100)\n",
        "print(classification_report(y_true, y_pred))\n",
        "print(matthews_corrcoef(y_true, y_pred))"
      ],
      "execution_count": 0,
      "outputs": [
        {
          "output_type": "stream",
          "text": [
            "86.7132867132867\n",
            "              precision    recall  f1-score   support\n",
            "\n",
            "           0       0.86      0.82      0.84       182\n",
            "           1       0.87      0.90      0.89       247\n",
            "\n",
            "   micro avg       0.87      0.87      0.87       429\n",
            "   macro avg       0.87      0.86      0.86       429\n",
            "weighted avg       0.87      0.87      0.87       429\n",
            "\n",
            "0.7270483743304207\n"
          ],
          "name": "stdout"
        }
      ]
    },
    {
      "cell_type": "code",
      "metadata": {
        "id": "tc3Q1s2eOGlQ",
        "colab_type": "code",
        "outputId": "9776964d-d52c-4dfc-d589-f84b97eb8d14",
        "colab": {
          "base_uri": "https://localhost:8080/",
          "height": 34
        }
      },
      "source": [
        "from google.colab import drive\n",
        "drive.mount('/content/drive')"
      ],
      "execution_count": 0,
      "outputs": [
        {
          "output_type": "stream",
          "text": [
            "Drive already mounted at /content/drive; to attempt to forcibly remount, call drive.mount(\"/content/drive\", force_remount=True).\n"
          ],
          "name": "stdout"
        }
      ]
    },
    {
      "cell_type": "code",
      "metadata": {
        "id": "HLmG7p8xOGWu",
        "colab_type": "code",
        "colab": {}
      },
      "source": [
        "model.save('drive/My Drive/sigma_70(85.08).h5')"
      ],
      "execution_count": 0,
      "outputs": []
    },
    {
      "cell_type": "code",
      "metadata": {
        "id": "yetniF_I4Gra",
        "colab_type": "code",
        "colab": {}
      },
      "source": [
        ""
      ],
      "execution_count": 0,
      "outputs": []
    }
  ]
}