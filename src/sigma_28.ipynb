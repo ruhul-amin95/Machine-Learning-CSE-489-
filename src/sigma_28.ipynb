{
  "nbformat": 4,
  "nbformat_minor": 0,
  "metadata": {
    "colab": {
      "name": "sigma_28.ipynb",
      "version": "0.3.2",
      "provenance": []
    },
    "kernelspec": {
      "name": "python3",
      "display_name": "Python 3"
    },
    "accelerator": "GPU"
  },
  "cells": [
    {
      "cell_type": "code",
      "metadata": {
        "id": "uOCXUXRSS0aO",
        "colab_type": "code",
        "outputId": "879e7f64-b6ad-4a07-ba86-29fb270dcfc9",
        "colab": {
          "base_uri": "https://localhost:8080/",
          "height": 34
        }
      },
      "source": [
        "import keras\n",
        "import numpy as np\n",
        "import pandas as pd\n",
        "import cv2\n",
        "from keras import backend as K\n",
        "from keras.models import Sequential, load_model\n",
        "from keras.layers import Dense, Dropout, Activation, Flatten\n",
        "from keras.layers import Convolution2D, MaxPooling2D, Convolution1D, MaxPooling1D, LocallyConnected1D\n",
        "from keras.utils import np_utils\n",
        "#from keras.layers.core import Dense, Flatten\n",
        "from keras.optimizers import Adam, SGD, RMSprop, Adagrad\n",
        "from keras.metrics import categorical_crossentropy\n",
        "from keras.preprocessing.image import ImageDataGenerator\n",
        "from keras.layers.normalization import BatchNormalization\n",
        "from keras.layers.convolutional import *\n",
        "from keras.utils import to_categorical\n",
        "import matplotlib.pyplot as plt\n",
        "from sklearn.model_selection import train_test_split\n",
        "from sklearn.metrics import confusion_matrix, accuracy_score, classification_report, matthews_corrcoef\n",
        "import itertools"
      ],
      "execution_count": 0,
      "outputs": [
        {
          "output_type": "stream",
          "text": [
            "Using TensorFlow backend.\n"
          ],
          "name": "stderr"
        }
      ]
    },
    {
      "cell_type": "code",
      "metadata": {
        "id": "xMRGlqLnTC5V",
        "colab_type": "code",
        "outputId": "df0c2771-693f-42e7-fe72-609a5aa6f69f",
        "colab": {
          "base_uri": "https://localhost:8080/",
          "height": 34
        }
      },
      "source": [
        "df = pd.read_csv('https://raw.githubusercontent.com/ruhul-amin95/E.-coli/master/sigma_28(pwr).csv')\n",
        "df.shape"
      ],
      "execution_count": 0,
      "outputs": [
        {
          "output_type": "execute_result",
          "data": {
            "text/plain": [
              "(228, 80)"
            ]
          },
          "metadata": {
            "tags": []
          },
          "execution_count": 2
        }
      ]
    },
    {
      "cell_type": "code",
      "metadata": {
        "id": "xxMT-PIsTGOB",
        "colab_type": "code",
        "colab": {}
      },
      "source": [
        "X = df.iloc[:, :-1].values\n",
        "y = df.iloc[:, -1].values"
      ],
      "execution_count": 0,
      "outputs": []
    },
    {
      "cell_type": "code",
      "metadata": {
        "id": "_FK-MxEZTI4x",
        "colab_type": "code",
        "colab": {}
      },
      "source": [
        "X = to_categorical(X)\n",
        "y = to_categorical(y)"
      ],
      "execution_count": 0,
      "outputs": []
    },
    {
      "cell_type": "code",
      "metadata": {
        "id": "7s6h7_DnTNMt",
        "colab_type": "code",
        "colab": {}
      },
      "source": [
        "X_tr, X_test, y_tr, y_test = train_test_split(X, y, test_size=0.15)\n",
        "X_train, X_val, y_train, y_val = train_test_split(X_tr, y_tr, test_size=0.15)"
      ],
      "execution_count": 0,
      "outputs": []
    },
    {
      "cell_type": "code",
      "metadata": {
        "id": "10bJ5EiQTPFD",
        "colab_type": "code",
        "outputId": "f378490b-5a42-4135-8895-657a294468ba",
        "colab": {
          "base_uri": "https://localhost:8080/",
          "height": 51
        }
      },
      "source": [
        "print('test: ', np.sum(y_test, axis=0))\n",
        "print('val: ', np.sum(y_val, axis=0))"
      ],
      "execution_count": 0,
      "outputs": [
        {
          "output_type": "stream",
          "text": [
            "test:  [13. 22.]\n",
            "val:  [15. 14.]\n"
          ],
          "name": "stdout"
        }
      ]
    },
    {
      "cell_type": "code",
      "metadata": {
        "id": "ZwYQNZ8JTRKv",
        "colab_type": "code",
        "colab": {}
      },
      "source": [
        "# Model Architecture\n",
        "model = Sequential()\n",
        "\n",
        "model.add(Convolution1D(filters = 128, kernel_size= 3, activation='relu', input_shape=(79, 64)))\n",
        "#model.add(MaxPooling1D(pool_size=2))\n",
        "model.add(Dropout(0.50))\n",
        "model.add(Convolution1D(filters = 60, kernel_size = 2, activation='relu'))\n",
        "#model.add(MaxPooling1D(pool_size=2))\n",
        "model.add(Convolution1D(filters = 40, kernel_size = 2, activation='relu'))\n",
        "model.add(Dropout(0.50))\n",
        "\n",
        "model.add(Flatten())\n",
        "#model.add(Dense(256, activation='relu'))\n",
        "#model.add(Dense(128, activation='relu'))\n",
        "model.add(Dropout(0.5))\n",
        "model.add(Dense(32, activation='relu'))\n",
        "model.add(Dense(2, activation='softmax'))"
      ],
      "execution_count": 0,
      "outputs": []
    },
    {
      "cell_type": "code",
      "metadata": {
        "id": "4HGLc2BITUz_",
        "colab_type": "code",
        "outputId": "564b9b93-066e-4965-e291-270b63b2c2f4",
        "colab": {
          "base_uri": "https://localhost:8080/",
          "height": 120
        }
      },
      "source": [
        "model.compile('rmsprop', loss='categorical_crossentropy', metrics=['accuracy'])\n",
        "\n",
        "model.fit(X_train, y_train, validation_data=(X_val, y_val), epochs=2, batch_size=24, verbose=1)"
      ],
      "execution_count": 0,
      "outputs": [
        {
          "output_type": "stream",
          "text": [
            "Train on 164 samples, validate on 29 samples\n",
            "Epoch 1/2\n",
            "164/164 [==============================] - 1s 6ms/step - loss: 0.3001 - acc: 0.8902 - val_loss: 0.1604 - val_acc: 0.9655\n",
            "Epoch 2/2\n",
            "164/164 [==============================] - 0s 272us/step - loss: 0.1179 - acc: 0.9695 - val_loss: 0.1225 - val_acc: 0.9655\n"
          ],
          "name": "stdout"
        },
        {
          "output_type": "execute_result",
          "data": {
            "text/plain": [
              "<keras.callbacks.History at 0x7f5e84a39358>"
            ]
          },
          "metadata": {
            "tags": []
          },
          "execution_count": 29
        }
      ]
    },
    {
      "cell_type": "code",
      "metadata": {
        "id": "Oj9GzvzvTZXU",
        "colab_type": "code",
        "colab": {}
      },
      "source": [
        "y_true = np.argmax(y_test, axis=1)\n",
        "y_pred = model.predict_classes(X_test)"
      ],
      "execution_count": 0,
      "outputs": []
    },
    {
      "cell_type": "code",
      "metadata": {
        "id": "hVgGbe5hTdj7",
        "colab_type": "code",
        "outputId": "f325ea2b-c8d1-4b4d-f20b-bb1e76779e44",
        "colab": {
          "base_uri": "https://localhost:8080/",
          "height": 206
        }
      },
      "source": [
        "print(accuracy_score(y_true, y_pred) * 100)\n",
        "print(classification_report(y_true, y_pred))\n",
        "print(matthews_corrcoef(y_true, y_pred))"
      ],
      "execution_count": 0,
      "outputs": [
        {
          "output_type": "stream",
          "text": [
            "97.14285714285714\n",
            "              precision    recall  f1-score   support\n",
            "\n",
            "           0       0.93      1.00      0.96        13\n",
            "           1       1.00      0.95      0.98        22\n",
            "\n",
            "   micro avg       0.97      0.97      0.97        35\n",
            "   macro avg       0.96      0.98      0.97        35\n",
            "weighted avg       0.97      0.97      0.97        35\n",
            "\n",
            "0.9414688716912718\n"
          ],
          "name": "stdout"
        }
      ]
    },
    {
      "cell_type": "code",
      "metadata": {
        "id": "Av8NeWxgTf_w",
        "colab_type": "code",
        "colab": {}
      },
      "source": [
        "model.save('drive/My Drive/sigma_28(97.14).h5')"
      ],
      "execution_count": 0,
      "outputs": []
    },
    {
      "cell_type": "code",
      "metadata": {
        "id": "AFsk7NoHT9iz",
        "colab_type": "code",
        "colab": {}
      },
      "source": [
        ""
      ],
      "execution_count": 0,
      "outputs": []
    }
  ]
}