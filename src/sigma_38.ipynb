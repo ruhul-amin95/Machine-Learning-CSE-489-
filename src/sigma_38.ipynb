{
  "nbformat": 4,
  "nbformat_minor": 0,
  "metadata": {
    "colab": {
      "name": "sigma_38.ipynb",
      "version": "0.3.2",
      "provenance": [],
      "collapsed_sections": []
    },
    "kernelspec": {
      "name": "python3",
      "display_name": "Python 3"
    },
    "accelerator": "GPU"
  },
  "cells": [
    {
      "cell_type": "code",
      "metadata": {
        "id": "EtePPkr9JPli",
        "colab_type": "code",
        "outputId": "08f5a822-9d11-4fc0-c661-61029ec9cf16",
        "colab": {
          "base_uri": "https://localhost:8080/",
          "height": 34
        }
      },
      "source": [
        "import keras\n",
        "import numpy as np\n",
        "import pandas as pd\n",
        "import cv2\n",
        "from keras import backend as K\n",
        "from keras.models import Sequential, load_model\n",
        "from keras.layers import Dense, Dropout, Activation, Flatten\n",
        "from keras.layers import Convolution2D, MaxPooling2D, Convolution1D, MaxPooling1D, LocallyConnected1D\n",
        "from keras.utils import np_utils\n",
        "#from keras.layers.core import Dense, Flatten\n",
        "from keras.optimizers import Adam, SGD, RMSprop, Adagrad\n",
        "from keras.metrics import categorical_crossentropy\n",
        "from keras.preprocessing.image import ImageDataGenerator\n",
        "from keras.layers.normalization import BatchNormalization\n",
        "from keras.layers.convolutional import *\n",
        "from keras.utils import to_categorical\n",
        "import matplotlib.pyplot as plt\n",
        "from sklearn.model_selection import train_test_split\n",
        "from sklearn.metrics import confusion_matrix, accuracy_score, classification_report, matthews_corrcoef\n",
        "import itertools"
      ],
      "execution_count": 0,
      "outputs": [
        {
          "output_type": "stream",
          "text": [
            "Using TensorFlow backend.\n"
          ],
          "name": "stderr"
        }
      ]
    },
    {
      "cell_type": "code",
      "metadata": {
        "id": "ia798uPtJVHT",
        "colab_type": "code",
        "outputId": "ec5dfd93-8810-4656-e4dd-87c2ce413a06",
        "colab": {
          "base_uri": "https://localhost:8080/",
          "height": 34
        }
      },
      "source": [
        "df = pd.read_csv('https://raw.githubusercontent.com/ruhul-amin95/E.-coli/master/sigma_38(pwr).csv')\n",
        "df.shape"
      ],
      "execution_count": 0,
      "outputs": [
        {
          "output_type": "execute_result",
          "data": {
            "text/plain": [
              "(391, 80)"
            ]
          },
          "metadata": {
            "tags": []
          },
          "execution_count": 12
        }
      ]
    },
    {
      "cell_type": "code",
      "metadata": {
        "id": "g1qnNUKiJZxV",
        "colab_type": "code",
        "colab": {}
      },
      "source": [
        "X = df.iloc[:, :-1].values\n",
        "y = df.iloc[:, -1].values"
      ],
      "execution_count": 0,
      "outputs": []
    },
    {
      "cell_type": "code",
      "metadata": {
        "id": "s1U3B33mJ3ER",
        "colab_type": "code",
        "colab": {}
      },
      "source": [
        "X = to_categorical(X)\n",
        "y = to_categorical(y)"
      ],
      "execution_count": 0,
      "outputs": []
    },
    {
      "cell_type": "code",
      "metadata": {
        "id": "QD5bPTLTJ5XV",
        "colab_type": "code",
        "colab": {}
      },
      "source": [
        "X_tr, X_test, y_tr, y_test = train_test_split(X, y, test_size=0.15)\n",
        "X_train, X_val, y_train, y_val = train_test_split(X_tr, y_tr, test_size=0.15)"
      ],
      "execution_count": 0,
      "outputs": []
    },
    {
      "cell_type": "code",
      "metadata": {
        "id": "ivQr6xFkJ7pe",
        "colab_type": "code",
        "outputId": "45072a15-2caa-4689-b782-68b4bb7c748b",
        "colab": {
          "base_uri": "https://localhost:8080/",
          "height": 51
        }
      },
      "source": [
        "print('test: ', np.sum(y_test, axis=0))\n",
        "print('val: ', np.sum(y_val, axis=0))"
      ],
      "execution_count": 0,
      "outputs": [
        {
          "output_type": "stream",
          "text": [
            "test:  [30. 29.]\n",
            "val:  [28. 22.]\n"
          ],
          "name": "stdout"
        }
      ]
    },
    {
      "cell_type": "code",
      "metadata": {
        "id": "cjsTJtj1J95a",
        "colab_type": "code",
        "colab": {}
      },
      "source": [
        "# Model Architecture\n",
        "model = Sequential()\n",
        "\n",
        "model.add(Convolution1D(filters = 128, kernel_size= 3, activation='relu', input_shape=(79, 64)))\n",
        "#model.add(MaxPooling1D(pool_size=2))\n",
        "model.add(Dropout(0.50))\n",
        "model.add(Convolution1D(filters = 60, kernel_size = 2, activation='relu'))\n",
        "#model.add(MaxPooling1D(pool_size=2))\n",
        "model.add(Convolution1D(filters = 40, kernel_size = 2, activation='relu'))\n",
        "model.add(Dropout(0.50))\n",
        "\n",
        "model.add(Flatten())\n",
        "#model.add(Dense(256, activation='relu'))\n",
        "#model.add(Dense(128, activation='relu'))\n",
        "model.add(Dropout(0.5))\n",
        "model.add(Dense(32, activation='relu'))\n",
        "model.add(Dense(2, activation='softmax'))"
      ],
      "execution_count": 0,
      "outputs": []
    },
    {
      "cell_type": "code",
      "metadata": {
        "id": "v2A0t9LhKBGq",
        "colab_type": "code",
        "outputId": "701a9bd9-91ad-4052-e92f-0b294a4e8dbc",
        "colab": {
          "base_uri": "https://localhost:8080/",
          "height": 531
        }
      },
      "source": [
        "model.compile('rmsprop', loss='categorical_crossentropy', metrics=['accuracy'])\n",
        "\n",
        "model.fit(X_train, y_train, validation_data=(X_val, y_val), epochs=14, batch_size=16, verbose=1)"
      ],
      "execution_count": 0,
      "outputs": [
        {
          "output_type": "stream",
          "text": [
            "Train on 282 samples, validate on 50 samples\n",
            "Epoch 1/14\n",
            "282/282 [==============================] - 2s 8ms/step - loss: 0.6975 - acc: 0.6028 - val_loss: 0.6873 - val_acc: 0.5600\n",
            "Epoch 2/14\n",
            "282/282 [==============================] - 0s 384us/step - loss: 0.6751 - acc: 0.5993 - val_loss: 0.6827 - val_acc: 0.5600\n",
            "Epoch 3/14\n",
            "282/282 [==============================] - 0s 332us/step - loss: 0.6697 - acc: 0.5957 - val_loss: 0.6864 - val_acc: 0.5600\n",
            "Epoch 4/14\n",
            "282/282 [==============================] - 0s 330us/step - loss: 0.6395 - acc: 0.6206 - val_loss: 0.6831 - val_acc: 0.5600\n",
            "Epoch 5/14\n",
            "282/282 [==============================] - 0s 326us/step - loss: 0.6306 - acc: 0.6206 - val_loss: 0.6667 - val_acc: 0.5800\n",
            "Epoch 6/14\n",
            "282/282 [==============================] - 0s 331us/step - loss: 0.6154 - acc: 0.6667 - val_loss: 0.6472 - val_acc: 0.6000\n",
            "Epoch 7/14\n",
            "282/282 [==============================] - 0s 335us/step - loss: 0.5348 - acc: 0.7340 - val_loss: 0.6028 - val_acc: 0.7600\n",
            "Epoch 8/14\n",
            "282/282 [==============================] - 0s 334us/step - loss: 0.4779 - acc: 0.7872 - val_loss: 0.5432 - val_acc: 0.7600\n",
            "Epoch 9/14\n",
            "282/282 [==============================] - 0s 340us/step - loss: 0.3864 - acc: 0.8369 - val_loss: 0.4736 - val_acc: 0.8000\n",
            "Epoch 10/14\n",
            "282/282 [==============================] - 0s 338us/step - loss: 0.3594 - acc: 0.8440 - val_loss: 0.3883 - val_acc: 0.8800\n",
            "Epoch 11/14\n",
            "282/282 [==============================] - 0s 347us/step - loss: 0.2680 - acc: 0.8901 - val_loss: 0.3269 - val_acc: 0.8800\n",
            "Epoch 12/14\n",
            "282/282 [==============================] - 0s 350us/step - loss: 0.2599 - acc: 0.9149 - val_loss: 0.3120 - val_acc: 0.8600\n",
            "Epoch 13/14\n",
            "282/282 [==============================] - 0s 387us/step - loss: 0.2525 - acc: 0.8901 - val_loss: 0.2688 - val_acc: 0.9000\n",
            "Epoch 14/14\n",
            "282/282 [==============================] - 0s 335us/step - loss: 0.2035 - acc: 0.9113 - val_loss: 0.2467 - val_acc: 0.9000\n"
          ],
          "name": "stdout"
        },
        {
          "output_type": "execute_result",
          "data": {
            "text/plain": [
              "<keras.callbacks.History at 0x7f494279a2e8>"
            ]
          },
          "metadata": {
            "tags": []
          },
          "execution_count": 91
        }
      ]
    },
    {
      "cell_type": "code",
      "metadata": {
        "id": "5nkxnJR-KGFI",
        "colab_type": "code",
        "colab": {}
      },
      "source": [
        "y_true = np.argmax(y_test, axis=1)\n",
        "y_pred = model.predict_classes(X_test)"
      ],
      "execution_count": 0,
      "outputs": []
    },
    {
      "cell_type": "code",
      "metadata": {
        "id": "5Fy14drpKKRS",
        "colab_type": "code",
        "outputId": "ab9e0da2-917c-4190-834e-a3af8b4fb8e1",
        "colab": {
          "base_uri": "https://localhost:8080/",
          "height": 206
        }
      },
      "source": [
        "print(accuracy_score(y_true, y_pred) * 100)\n",
        "print(classification_report(y_true, y_pred))\n",
        "print(matthews_corrcoef(y_true, y_pred))"
      ],
      "execution_count": 0,
      "outputs": [
        {
          "output_type": "stream",
          "text": [
            "88.13559322033898\n",
            "              precision    recall  f1-score   support\n",
            "\n",
            "           0       0.90      0.87      0.88        30\n",
            "           1       0.87      0.90      0.88        29\n",
            "\n",
            "   micro avg       0.88      0.88      0.88        59\n",
            "   macro avg       0.88      0.88      0.88        59\n",
            "weighted avg       0.88      0.88      0.88        59\n",
            "\n",
            "0.7632183908045977\n"
          ],
          "name": "stdout"
        }
      ]
    },
    {
      "cell_type": "code",
      "metadata": {
        "id": "n1Z08NhUKMgL",
        "colab_type": "code",
        "colab": {}
      },
      "source": [
        "model.save('drive/My Drive/sigma_38(84.75).h5')"
      ],
      "execution_count": 0,
      "outputs": []
    },
    {
      "cell_type": "code",
      "metadata": {
        "id": "F_QhaDy2M69k",
        "colab_type": "code",
        "colab": {}
      },
      "source": [
        ""
      ],
      "execution_count": 0,
      "outputs": []
    }
  ]
}