{
  "nbformat": 4,
  "nbformat_minor": 0,
  "metadata": {
    "colab": {
      "name": "sigma_24.ipynb",
      "version": "0.3.2",
      "provenance": []
    },
    "kernelspec": {
      "name": "python3",
      "display_name": "Python 3"
    },
    "accelerator": "GPU"
  },
  "cells": [
    {
      "cell_type": "code",
      "metadata": {
        "id": "w3twCk1-RL_e",
        "colab_type": "code",
        "outputId": "b6d9d5a1-aa0d-4dd5-b76c-72f952afcfdd",
        "colab": {
          "base_uri": "https://localhost:8080/",
          "height": 34
        }
      },
      "source": [
        "import keras\n",
        "import numpy as np\n",
        "import pandas as pd\n",
        "import cv2\n",
        "from keras import backend as K\n",
        "from keras.models import Sequential, load_model\n",
        "from keras.layers import Dense, Dropout, Activation, Flatten\n",
        "from keras.layers import Convolution2D, MaxPooling2D, Convolution1D, MaxPooling1D, LocallyConnected1D\n",
        "from keras.utils import np_utils\n",
        "#from keras.layers.core import Dense, Flatten\n",
        "from keras.optimizers import Adam, SGD, RMSprop, Adagrad\n",
        "from keras.metrics import categorical_crossentropy\n",
        "from keras.preprocessing.image import ImageDataGenerator\n",
        "from keras.layers.normalization import BatchNormalization\n",
        "from keras.layers.convolutional import *\n",
        "from keras.utils import to_categorical\n",
        "import matplotlib.pyplot as plt\n",
        "from sklearn.model_selection import train_test_split\n",
        "from sklearn.metrics import confusion_matrix, accuracy_score, classification_report, matthews_corrcoef\n",
        "import itertools"
      ],
      "execution_count": 0,
      "outputs": [
        {
          "output_type": "stream",
          "text": [
            "Using TensorFlow backend.\n"
          ],
          "name": "stderr"
        }
      ]
    },
    {
      "cell_type": "code",
      "metadata": {
        "id": "ihlq4MZNUveS",
        "colab_type": "code",
        "outputId": "484ff679-9ccf-4202-d168-31a3fbfa277b",
        "colab": {
          "base_uri": "https://localhost:8080/",
          "height": 34
        }
      },
      "source": [
        "df = pd.read_csv('https://raw.githubusercontent.com/ruhul-amin95/E.-coli/master/sigma_24(pwr).csv')\n",
        "df.shape"
      ],
      "execution_count": 0,
      "outputs": [
        {
          "output_type": "execute_result",
          "data": {
            "text/plain": [
              "(1166, 80)"
            ]
          },
          "metadata": {
            "tags": []
          },
          "execution_count": 2
        }
      ]
    },
    {
      "cell_type": "code",
      "metadata": {
        "id": "XPHgKVqXYDCs",
        "colab_type": "code",
        "colab": {}
      },
      "source": [
        "X = df.iloc[:, :-1].values\n",
        "y = df.iloc[:, -1].values"
      ],
      "execution_count": 0,
      "outputs": []
    },
    {
      "cell_type": "code",
      "metadata": {
        "id": "djyaZUZpYFm-",
        "colab_type": "code",
        "colab": {}
      },
      "source": [
        "X = to_categorical(X)\n",
        "y = to_categorical(y)"
      ],
      "execution_count": 0,
      "outputs": []
    },
    {
      "cell_type": "code",
      "metadata": {
        "id": "IE_U_ufsYHVa",
        "colab_type": "code",
        "colab": {}
      },
      "source": [
        "X_tr, X_test, y_tr, y_test = train_test_split(X, y, test_size=0.15)\n",
        "X_train, X_val, y_train, y_val = train_test_split(X_tr, y_tr, test_size=0.15)"
      ],
      "execution_count": 0,
      "outputs": []
    },
    {
      "cell_type": "code",
      "metadata": {
        "id": "7Rr-STCRYJpg",
        "colab_type": "code",
        "outputId": "c2ee5957-a063-4510-a45a-7190927bd9d2",
        "colab": {
          "base_uri": "https://localhost:8080/",
          "height": 51
        }
      },
      "source": [
        "print('test: ', np.sum(y_test, axis=0))\n",
        "print('val: ', np.sum(y_val, axis=0))"
      ],
      "execution_count": 0,
      "outputs": [
        {
          "output_type": "stream",
          "text": [
            "test:  [110.  65.]\n",
            "val:  [96. 53.]\n"
          ],
          "name": "stdout"
        }
      ]
    },
    {
      "cell_type": "code",
      "metadata": {
        "id": "GJj4oz6SYLcD",
        "colab_type": "code",
        "colab": {}
      },
      "source": [
        "# Model Architecture\n",
        "model = Sequential()\n",
        "\n",
        "model.add(Convolution1D(filters = 128, kernel_size= 3, activation='relu', input_shape=(79, 64)))\n",
        "#model.add(MaxPooling1D(pool_size=2))\n",
        "model.add(Dropout(0.50))\n",
        "model.add(Convolution1D(filters = 40, kernel_size = 2, activation='relu'))\n",
        "#model.add(MaxPooling1D(pool_size=2))\n",
        "#model.add(Convolution1D(filters = 16, kernel_size = 2, activation='relu'))\n",
        "model.add(Dropout(0.50))\n",
        "\n",
        "model.add(Flatten())\n",
        "#model.add(Dense(256, activation='relu'))\n",
        "#model.add(Dense(128, activation='relu'))\n",
        "model.add(Dropout(0.5))\n",
        "model.add(Dense(32, activation='relu'))\n",
        "model.add(Dense(2, activation='softmax'))"
      ],
      "execution_count": 0,
      "outputs": []
    },
    {
      "cell_type": "code",
      "metadata": {
        "id": "G5H8ZkaRYOg_",
        "colab_type": "code",
        "outputId": "1a9f1bd1-4c3a-4cb8-f3b4-ab37bcbc8fe5",
        "colab": {
          "base_uri": "https://localhost:8080/",
          "height": 1011
        }
      },
      "source": [
        "model.compile(Adam(lr=0.0003), loss='categorical_crossentropy', metrics=['accuracy'])\n",
        "\n",
        "model.fit(X_train, y_train, validation_data=(X_val, y_val), epochs=28, batch_size=20, verbose=1)"
      ],
      "execution_count": 0,
      "outputs": [
        {
          "output_type": "stream",
          "text": [
            "Train on 842 samples, validate on 149 samples\n",
            "Epoch 1/28\n",
            "842/842 [==============================] - 1s 1ms/step - loss: 0.6877 - acc: 0.5451 - val_loss: 0.6527 - val_acc: 0.6443\n",
            "Epoch 2/28\n",
            "842/842 [==============================] - 0s 243us/step - loss: 0.6808 - acc: 0.5784 - val_loss: 0.6656 - val_acc: 0.6443\n",
            "Epoch 3/28\n",
            "842/842 [==============================] - 0s 240us/step - loss: 0.6782 - acc: 0.5629 - val_loss: 0.6525 - val_acc: 0.6443\n",
            "Epoch 4/28\n",
            "842/842 [==============================] - 0s 242us/step - loss: 0.6699 - acc: 0.5724 - val_loss: 0.6526 - val_acc: 0.6376\n",
            "Epoch 5/28\n",
            "842/842 [==============================] - 0s 253us/step - loss: 0.6697 - acc: 0.5855 - val_loss: 0.6429 - val_acc: 0.6443\n",
            "Epoch 6/28\n",
            "842/842 [==============================] - 0s 256us/step - loss: 0.6531 - acc: 0.6449 - val_loss: 0.6211 - val_acc: 0.6443\n",
            "Epoch 7/28\n",
            "842/842 [==============================] - 0s 243us/step - loss: 0.6266 - acc: 0.6508 - val_loss: 0.6055 - val_acc: 0.8456\n",
            "Epoch 8/28\n",
            "842/842 [==============================] - 0s 245us/step - loss: 0.6023 - acc: 0.6781 - val_loss: 0.5271 - val_acc: 0.7584\n",
            "Epoch 9/28\n",
            "842/842 [==============================] - 0s 242us/step - loss: 0.5334 - acc: 0.7565 - val_loss: 0.4789 - val_acc: 0.9060\n",
            "Epoch 10/28\n",
            "842/842 [==============================] - 0s 251us/step - loss: 0.4785 - acc: 0.7803 - val_loss: 0.3576 - val_acc: 0.9329\n",
            "Epoch 11/28\n",
            "842/842 [==============================] - 0s 240us/step - loss: 0.3926 - acc: 0.8361 - val_loss: 0.2970 - val_acc: 0.9463\n",
            "Epoch 12/28\n",
            "842/842 [==============================] - 0s 243us/step - loss: 0.3473 - acc: 0.8634 - val_loss: 0.2282 - val_acc: 0.9329\n",
            "Epoch 13/28\n",
            "842/842 [==============================] - 0s 239us/step - loss: 0.3213 - acc: 0.8694 - val_loss: 0.2180 - val_acc: 0.9597\n",
            "Epoch 14/28\n",
            "842/842 [==============================] - 0s 243us/step - loss: 0.2807 - acc: 0.8765 - val_loss: 0.1897 - val_acc: 0.9597\n",
            "Epoch 15/28\n",
            "842/842 [==============================] - 0s 247us/step - loss: 0.2337 - acc: 0.9050 - val_loss: 0.1537 - val_acc: 0.9463\n",
            "Epoch 16/28\n",
            "842/842 [==============================] - 0s 240us/step - loss: 0.2093 - acc: 0.9145 - val_loss: 0.1488 - val_acc: 0.9732\n",
            "Epoch 17/28\n",
            "842/842 [==============================] - 0s 242us/step - loss: 0.2312 - acc: 0.8967 - val_loss: 0.1985 - val_acc: 0.9195\n",
            "Epoch 18/28\n",
            "842/842 [==============================] - 0s 243us/step - loss: 0.2109 - acc: 0.9133 - val_loss: 0.1516 - val_acc: 0.9597\n",
            "Epoch 19/28\n",
            "842/842 [==============================] - 0s 237us/step - loss: 0.1904 - acc: 0.9192 - val_loss: 0.1172 - val_acc: 0.9732\n",
            "Epoch 20/28\n",
            "842/842 [==============================] - 0s 255us/step - loss: 0.1768 - acc: 0.9204 - val_loss: 0.1426 - val_acc: 0.9664\n",
            "Epoch 21/28\n",
            "842/842 [==============================] - 0s 244us/step - loss: 0.1769 - acc: 0.9276 - val_loss: 0.1222 - val_acc: 0.9732\n",
            "Epoch 22/28\n",
            "842/842 [==============================] - 0s 238us/step - loss: 0.1654 - acc: 0.9347 - val_loss: 0.1204 - val_acc: 0.9732\n",
            "Epoch 23/28\n",
            "842/842 [==============================] - 0s 243us/step - loss: 0.1771 - acc: 0.9347 - val_loss: 0.1408 - val_acc: 0.9664\n",
            "Epoch 24/28\n",
            "842/842 [==============================] - 0s 241us/step - loss: 0.1576 - acc: 0.9442 - val_loss: 0.1236 - val_acc: 0.9732\n",
            "Epoch 25/28\n",
            "842/842 [==============================] - 0s 251us/step - loss: 0.1516 - acc: 0.9371 - val_loss: 0.1214 - val_acc: 0.9732\n",
            "Epoch 26/28\n",
            "842/842 [==============================] - 0s 240us/step - loss: 0.1457 - acc: 0.9501 - val_loss: 0.1496 - val_acc: 0.9597\n",
            "Epoch 27/28\n",
            "842/842 [==============================] - 0s 237us/step - loss: 0.1282 - acc: 0.9549 - val_loss: 0.1202 - val_acc: 0.9664\n",
            "Epoch 28/28\n",
            "842/842 [==============================] - 0s 243us/step - loss: 0.1399 - acc: 0.9442 - val_loss: 0.1053 - val_acc: 0.9799\n"
          ],
          "name": "stdout"
        },
        {
          "output_type": "execute_result",
          "data": {
            "text/plain": [
              "<keras.callbacks.History at 0x7f1ae0e285f8>"
            ]
          },
          "metadata": {
            "tags": []
          },
          "execution_count": 32
        }
      ]
    },
    {
      "cell_type": "code",
      "metadata": {
        "id": "8Dpfs7YKYSIc",
        "colab_type": "code",
        "colab": {}
      },
      "source": [
        "y_true = np.argmax(y_test, axis=1)\n",
        "y_pred = model.predict_classes(X_test)"
      ],
      "execution_count": 0,
      "outputs": []
    },
    {
      "cell_type": "code",
      "metadata": {
        "id": "YvxElmDAYXpR",
        "colab_type": "code",
        "outputId": "d7fdd39f-aa88-4029-8e9d-cb7da7a2ba2e",
        "colab": {
          "base_uri": "https://localhost:8080/",
          "height": 206
        }
      },
      "source": [
        "print(accuracy_score(y_true, y_pred) * 100)\n",
        "print(classification_report(y_true, y_pred))\n",
        "print(matthews_corrcoef(y_true, y_pred))"
      ],
      "execution_count": 0,
      "outputs": [
        {
          "output_type": "stream",
          "text": [
            "93.71428571428572\n",
            "              precision    recall  f1-score   support\n",
            "\n",
            "           0       0.95      0.95      0.95       110\n",
            "           1       0.91      0.92      0.92        65\n",
            "\n",
            "   micro avg       0.94      0.94      0.94       175\n",
            "   macro avg       0.93      0.93      0.93       175\n",
            "weighted avg       0.94      0.94      0.94       175\n",
            "\n",
            "0.8658713352741462\n"
          ],
          "name": "stdout"
        }
      ]
    },
    {
      "cell_type": "code",
      "metadata": {
        "id": "hyKhHPa-Ycnn",
        "colab_type": "code",
        "colab": {}
      },
      "source": [
        "model.save('drive/My Drive/sigma_24(91.43).h5')"
      ],
      "execution_count": 0,
      "outputs": []
    },
    {
      "cell_type": "code",
      "metadata": {
        "id": "uyJyq4r8cu-M",
        "colab_type": "code",
        "colab": {}
      },
      "source": [
        ""
      ],
      "execution_count": 0,
      "outputs": []
    }
  ]
}