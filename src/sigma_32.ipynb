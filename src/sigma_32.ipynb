{
  "nbformat": 4,
  "nbformat_minor": 0,
  "metadata": {
    "colab": {
      "name": "sigma_32.ipynb",
      "version": "0.3.2",
      "provenance": []
    },
    "kernelspec": {
      "name": "python3",
      "display_name": "Python 3"
    },
    "accelerator": "GPU"
  },
  "cells": [
    {
      "cell_type": "code",
      "metadata": {
        "id": "sAGZwl9m9F6W",
        "colab_type": "code",
        "outputId": "b03cae93-f79e-4fec-dbcf-6cedef0fba96",
        "colab": {
          "base_uri": "https://localhost:8080/",
          "height": 34
        }
      },
      "source": [
        "import keras\n",
        "import numpy as np\n",
        "import pandas as pd\n",
        "import cv2\n",
        "from keras import backend as K\n",
        "from keras.models import Sequential, load_model\n",
        "from keras.layers import Dense, Dropout, Activation, Flatten\n",
        "from keras.layers import Convolution2D, MaxPooling2D, Convolution1D, MaxPooling1D, LocallyConnected1D\n",
        "from keras.utils import np_utils\n",
        "#from keras.layers.core import Dense, Flatten\n",
        "from keras.optimizers import Adam, SGD, RMSprop, Adagrad\n",
        "from keras.metrics import categorical_crossentropy\n",
        "from keras.preprocessing.image import ImageDataGenerator\n",
        "from keras.layers.normalization import BatchNormalization\n",
        "from keras.layers.convolutional import *\n",
        "from keras.utils import to_categorical\n",
        "import matplotlib.pyplot as plt\n",
        "from sklearn.model_selection import train_test_split\n",
        "from sklearn.metrics import confusion_matrix, accuracy_score, classification_report, matthews_corrcoef\n",
        "import itertools"
      ],
      "execution_count": 0,
      "outputs": [
        {
          "output_type": "stream",
          "text": [
            "Using TensorFlow backend.\n"
          ],
          "name": "stderr"
        }
      ]
    },
    {
      "cell_type": "code",
      "metadata": {
        "id": "YAo-9Leb9caN",
        "colab_type": "code",
        "outputId": "932c9069-fae1-41d1-96b6-ba43f5950c02",
        "colab": {
          "base_uri": "https://localhost:8080/",
          "height": 34
        }
      },
      "source": [
        "df = pd.read_csv('https://raw.githubusercontent.com/ruhul-amin95/E.-coli/master/sigma_32(pwr).csv')\n",
        "df.shape"
      ],
      "execution_count": 0,
      "outputs": [
        {
          "output_type": "execute_result",
          "data": {
            "text/plain": [
              "(682, 80)"
            ]
          },
          "metadata": {
            "tags": []
          },
          "execution_count": 2
        }
      ]
    },
    {
      "cell_type": "code",
      "metadata": {
        "id": "XTi17DUG9oHv",
        "colab_type": "code",
        "colab": {}
      },
      "source": [
        "X = df.iloc[:, :-1].values\n",
        "y = df.iloc[:, -1].values"
      ],
      "execution_count": 0,
      "outputs": []
    },
    {
      "cell_type": "code",
      "metadata": {
        "id": "iiceLiEO9yB4",
        "colab_type": "code",
        "colab": {}
      },
      "source": [
        "X = to_categorical(X)\n",
        "y = to_categorical(y)"
      ],
      "execution_count": 0,
      "outputs": []
    },
    {
      "cell_type": "code",
      "metadata": {
        "id": "69pESYcR96lh",
        "colab_type": "code",
        "colab": {}
      },
      "source": [
        "X_tr, X_test, y_tr, y_test = train_test_split(X, y, test_size=0.15)\n",
        "X_train, X_val, y_train, y_val = train_test_split(X_tr, y_tr, test_size=0.15)"
      ],
      "execution_count": 0,
      "outputs": []
    },
    {
      "cell_type": "code",
      "metadata": {
        "id": "uLoMlAlP97Sm",
        "colab_type": "code",
        "outputId": "2ea23d2c-320b-4832-e18c-5af5142e75a5",
        "colab": {
          "base_uri": "https://localhost:8080/",
          "height": 51
        }
      },
      "source": [
        "print('test: ', np.sum(y_test, axis=0))\n",
        "print('val: ', np.sum(y_val, axis=0))"
      ],
      "execution_count": 0,
      "outputs": [
        {
          "output_type": "stream",
          "text": [
            "test:  [57. 46.]\n",
            "val:  [54. 33.]\n"
          ],
          "name": "stdout"
        }
      ]
    },
    {
      "cell_type": "code",
      "metadata": {
        "id": "lFAnzT_G99dx",
        "colab_type": "code",
        "colab": {}
      },
      "source": [
        "# Model Architecture\n",
        "model = Sequential()\n",
        "\n",
        "model.add(Convolution1D(filters = 60, kernel_size= 3, activation='relu', input_shape=(79, 64)))\n",
        "#model.add(MaxPooling1D(pool_size=2))\n",
        "model.add(Dropout(0.50))\n",
        "model.add(Convolution1D(filters = 40, kernel_size = 2, activation='relu'))\n",
        "#model.add(MaxPooling1D(pool_size=2))\n",
        "#model.add(Convolution1D(filters = 16, kernel_size = 2, activation='relu'))\n",
        "model.add(Dropout(0.50))\n",
        "\n",
        "model.add(Flatten())\n",
        "#model.add(Dense(256, activation='relu'))\n",
        "#model.add(Dense(128, activation='relu'))\n",
        "model.add(Dropout(0.5))\n",
        "model.add(Dense(32, activation='relu'))\n",
        "model.add(Dense(2, activation='softmax'))"
      ],
      "execution_count": 0,
      "outputs": []
    },
    {
      "cell_type": "code",
      "metadata": {
        "id": "z71_PllD-AvP",
        "colab_type": "code",
        "outputId": "6fb69965-2751-4aa4-c2cc-4acf2827b89b",
        "colab": {
          "base_uri": "https://localhost:8080/",
          "height": 1011
        }
      },
      "source": [
        "model.compile('rmsprop', loss='categorical_crossentropy', metrics=['accuracy'])\n",
        "\n",
        "model.fit(X_train, y_train, validation_data=(X_val, y_val), epochs=28, batch_size=16, verbose=1)"
      ],
      "execution_count": 0,
      "outputs": [
        {
          "output_type": "stream",
          "text": [
            "Train on 492 samples, validate on 87 samples\n",
            "Epoch 1/28\n",
            "492/492 [==============================] - 1s 3ms/step - loss: 0.7002 - acc: 0.5467 - val_loss: 0.6816 - val_acc: 0.6437\n",
            "Epoch 2/28\n",
            "492/492 [==============================] - 0s 279us/step - loss: 0.6792 - acc: 0.5772 - val_loss: 0.6776 - val_acc: 0.7241\n",
            "Epoch 3/28\n",
            "492/492 [==============================] - 0s 274us/step - loss: 0.6601 - acc: 0.6179 - val_loss: 0.7035 - val_acc: 0.3908\n",
            "Epoch 4/28\n",
            "492/492 [==============================] - 0s 274us/step - loss: 0.6472 - acc: 0.6240 - val_loss: 0.6229 - val_acc: 0.6207\n",
            "Epoch 5/28\n",
            "492/492 [==============================] - 0s 281us/step - loss: 0.6050 - acc: 0.6606 - val_loss: 0.5853 - val_acc: 0.6897\n",
            "Epoch 6/28\n",
            "492/492 [==============================] - 0s 278us/step - loss: 0.5808 - acc: 0.6789 - val_loss: 0.5506 - val_acc: 0.8046\n",
            "Epoch 7/28\n",
            "492/492 [==============================] - 0s 274us/step - loss: 0.5166 - acc: 0.7622 - val_loss: 0.4920 - val_acc: 0.7816\n",
            "Epoch 8/28\n",
            "492/492 [==============================] - 0s 283us/step - loss: 0.5179 - acc: 0.7419 - val_loss: 0.4247 - val_acc: 0.8736\n",
            "Epoch 9/28\n",
            "492/492 [==============================] - 0s 294us/step - loss: 0.4571 - acc: 0.7805 - val_loss: 0.4707 - val_acc: 0.8161\n",
            "Epoch 10/28\n",
            "492/492 [==============================] - 0s 279us/step - loss: 0.4131 - acc: 0.8049 - val_loss: 0.3628 - val_acc: 0.8621\n",
            "Epoch 11/28\n",
            "492/492 [==============================] - 0s 286us/step - loss: 0.3836 - acc: 0.8313 - val_loss: 0.3748 - val_acc: 0.8736\n",
            "Epoch 12/28\n",
            "492/492 [==============================] - 0s 303us/step - loss: 0.3527 - acc: 0.8455 - val_loss: 0.3185 - val_acc: 0.8736\n",
            "Epoch 13/28\n",
            "492/492 [==============================] - 0s 284us/step - loss: 0.3292 - acc: 0.8801 - val_loss: 0.3403 - val_acc: 0.8621\n",
            "Epoch 14/28\n",
            "492/492 [==============================] - 0s 281us/step - loss: 0.3201 - acc: 0.8476 - val_loss: 0.2824 - val_acc: 0.8851\n",
            "Epoch 15/28\n",
            "492/492 [==============================] - 0s 279us/step - loss: 0.2707 - acc: 0.8659 - val_loss: 0.2677 - val_acc: 0.9080\n",
            "Epoch 16/28\n",
            "492/492 [==============================] - 0s 302us/step - loss: 0.2989 - acc: 0.8780 - val_loss: 0.2683 - val_acc: 0.8966\n",
            "Epoch 17/28\n",
            "492/492 [==============================] - 0s 279us/step - loss: 0.2542 - acc: 0.8841 - val_loss: 0.2620 - val_acc: 0.9195\n",
            "Epoch 18/28\n",
            "492/492 [==============================] - 0s 275us/step - loss: 0.2658 - acc: 0.8923 - val_loss: 0.3804 - val_acc: 0.8621\n",
            "Epoch 19/28\n",
            "492/492 [==============================] - 0s 269us/step - loss: 0.2300 - acc: 0.8943 - val_loss: 0.2883 - val_acc: 0.8966\n",
            "Epoch 20/28\n",
            "492/492 [==============================] - 0s 271us/step - loss: 0.2719 - acc: 0.8780 - val_loss: 0.2670 - val_acc: 0.9195\n",
            "Epoch 21/28\n",
            "492/492 [==============================] - 0s 277us/step - loss: 0.2304 - acc: 0.9065 - val_loss: 0.2639 - val_acc: 0.9080\n",
            "Epoch 22/28\n",
            "492/492 [==============================] - 0s 271us/step - loss: 0.1886 - acc: 0.9268 - val_loss: 0.2537 - val_acc: 0.9080\n",
            "Epoch 23/28\n",
            "492/492 [==============================] - 0s 296us/step - loss: 0.2307 - acc: 0.9085 - val_loss: 0.2524 - val_acc: 0.9195\n",
            "Epoch 24/28\n",
            "492/492 [==============================] - 0s 282us/step - loss: 0.2209 - acc: 0.9126 - val_loss: 0.2722 - val_acc: 0.8966\n",
            "Epoch 25/28\n",
            "492/492 [==============================] - 0s 273us/step - loss: 0.1914 - acc: 0.9289 - val_loss: 0.2385 - val_acc: 0.9080\n",
            "Epoch 26/28\n",
            "492/492 [==============================] - 0s 273us/step - loss: 0.2147 - acc: 0.9045 - val_loss: 0.2420 - val_acc: 0.9195\n",
            "Epoch 27/28\n",
            "492/492 [==============================] - 0s 276us/step - loss: 0.1924 - acc: 0.9228 - val_loss: 0.2553 - val_acc: 0.9080\n",
            "Epoch 28/28\n",
            "492/492 [==============================] - 0s 273us/step - loss: 0.1616 - acc: 0.9370 - val_loss: 0.2361 - val_acc: 0.9195\n"
          ],
          "name": "stdout"
        },
        {
          "output_type": "execute_result",
          "data": {
            "text/plain": [
              "<keras.callbacks.History at 0x7f9b1a7d4da0>"
            ]
          },
          "metadata": {
            "tags": []
          },
          "execution_count": 57
        }
      ]
    },
    {
      "cell_type": "code",
      "metadata": {
        "id": "iWRKWl8z-Dhz",
        "colab_type": "code",
        "colab": {}
      },
      "source": [
        "y_true = np.argmax(y_test, axis=1)\n",
        "y_pred = model.predict_classes(X_test)"
      ],
      "execution_count": 0,
      "outputs": []
    },
    {
      "cell_type": "code",
      "metadata": {
        "id": "Kz_RF7kj-G4q",
        "colab_type": "code",
        "outputId": "ae7ce11c-04ba-418f-e4f9-d316cc6a6860",
        "colab": {
          "base_uri": "https://localhost:8080/",
          "height": 206
        }
      },
      "source": [
        "print(accuracy_score(y_true, y_pred) * 100)\n",
        "print(classification_report(y_true, y_pred))\n",
        "print(matthews_corrcoef(y_true, y_pred))"
      ],
      "execution_count": 0,
      "outputs": [
        {
          "output_type": "stream",
          "text": [
            "89.32038834951457\n",
            "              precision    recall  f1-score   support\n",
            "\n",
            "           0       0.88      0.93      0.91        57\n",
            "           1       0.91      0.85      0.88        46\n",
            "\n",
            "   micro avg       0.89      0.89      0.89       103\n",
            "   macro avg       0.90      0.89      0.89       103\n",
            "weighted avg       0.89      0.89      0.89       103\n",
            "\n",
            "0.7839548100422701\n"
          ],
          "name": "stdout"
        }
      ]
    },
    {
      "cell_type": "code",
      "metadata": {
        "id": "sxT8MwTDAQwj",
        "colab_type": "code",
        "outputId": "ca119b4c-5dba-4340-d1d2-8f17d0a70cd9",
        "colab": {
          "base_uri": "https://localhost:8080/",
          "height": 162
        }
      },
      "source": [
        "from google.colab import drive\n",
        "drive.mount('/content/drive')"
      ],
      "execution_count": 0,
      "outputs": [
        {
          "output_type": "stream",
          "text": [
            "Go to this URL in a browser: https://accounts.google.com/o/oauth2/auth?client_id=947318989803-6bn6qk8qdgf4n4g3pfee6491hc0brc4i.apps.googleusercontent.com&redirect_uri=urn%3Aietf%3Awg%3Aoauth%3A2.0%3Aoob&scope=email%20https%3A%2F%2Fwww.googleapis.com%2Fauth%2Fdocs.test%20https%3A%2F%2Fwww.googleapis.com%2Fauth%2Fdrive%20https%3A%2F%2Fwww.googleapis.com%2Fauth%2Fdrive.photos.readonly%20https%3A%2F%2Fwww.googleapis.com%2Fauth%2Fpeopleapi.readonly&response_type=code\n",
            "\n",
            "Enter your authorization code:\n",
            "··········\n",
            "Mounted at /content/drive\n"
          ],
          "name": "stdout"
        }
      ]
    },
    {
      "cell_type": "code",
      "metadata": {
        "id": "Xr3ebnh3-KT0",
        "colab_type": "code",
        "colab": {}
      },
      "source": [
        "model.save('drive/My Drive/sigma_32(89.32).h5')"
      ],
      "execution_count": 0,
      "outputs": []
    },
    {
      "cell_type": "code",
      "metadata": {
        "id": "RL7i9zQIAOgo",
        "colab_type": "code",
        "colab": {}
      },
      "source": [
        ""
      ],
      "execution_count": 0,
      "outputs": []
    }
  ]
}